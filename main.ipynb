{
 "cells": [
  {
   "cell_type": "markdown",
   "id": "649980e8",
   "metadata": {},
   "source": [
    "# Bainbridge Island Home Price Prediction\n",
    "This notebook trains a simple Decision Tree Regressor using home data from Bainbridge Island, WA to predict house prices based on features like bedrooms, bathrooms, square footage, lot size, and year built."
   ]
  },
  {
   "cell_type": "code",
   "execution_count": null,
   "id": "5ae24b7f",
   "metadata": {},
   "outputs": [],
   "source": [
    "%pip install pandas scikit-learn openpyxl"
   ]
  },
  {
   "cell_type": "code",
   "execution_count": null,
   "id": "7ccc19a9",
   "metadata": {},
   "outputs": [],
   "source": [
    "# Import packages\n",
    "import pandas as pd\n",
    "from sklearn.tree import DecisionTreeRegressor\n",
    "from sklearn.metrics import mean_absolute_error\n",
    "from sklearn.model_selection import train_test_split"
   ]
  },
  {
   "cell_type": "code",
   "execution_count": null,
   "id": "1cb552b0",
   "metadata": {},
   "outputs": [],
   "source": [
    "# Homes on Bainbridge Island, WA\n",
    "home_data = pd.read_excel(\"./BI_homes.xlsx\")"
   ]
  },
  {
   "cell_type": "code",
   "execution_count": null,
   "id": "a2cf4b24",
   "metadata": {},
   "outputs": [],
   "source": [
    "home_data.describe()"
   ]
  },
  {
   "cell_type": "code",
   "execution_count": null,
   "id": "7d2473c5",
   "metadata": {},
   "outputs": [],
   "source": [
    "y = home_data.price\n",
    "\n",
    "# Features\n",
    "X = home_data[[\"bed\", \"bath\", \"sqft\", \"acre_lot\", \"year_built\"]]"
   ]
  },
  {
   "cell_type": "code",
   "execution_count": null,
   "id": "5999cecb",
   "metadata": {},
   "outputs": [],
   "source": [
    "# Split the data into training and validation\n",
    "train_X, val_X, train_y, val_y = train_test_split(X, y, random_state=1)"
   ]
  },
  {
   "cell_type": "code",
   "execution_count": null,
   "id": "ed52b4b1",
   "metadata": {},
   "outputs": [],
   "source": [
    "# Train the model on training set\n",
    "home_model = DecisionTreeRegressor(random_state=1)\n",
    "home_model.fit(train_X, train_y)"
   ]
  },
  {
   "cell_type": "code",
   "execution_count": null,
   "id": "cd4c8f17",
   "metadata": {},
   "outputs": [],
   "source": [
    "# Predict on validation set\n",
    "val_predictions = home_model.predict(val_X)\n",
    "for i, prediction in enumerate(val_predictions, 1):\n",
    "    print(f\"Prediction {i}: ${prediction:,.0f}\")"
   ]
  },
  {
   "cell_type": "code",
   "execution_count": null,
   "id": "664c7cac",
   "metadata": {},
   "outputs": [],
   "source": [
    "mae = mean_absolute_error(val_y, val_predictions)\n",
    "print(f\"Mean Absolute Error on Validation Set: ${mae:,.0f}\")"
   ]
  },
  {
   "cell_type": "markdown",
   "id": "53b377e4",
   "metadata": {},
   "source": [
    "The Excel file currently has only 45 rows. I need to add a lot more to get a more accurate model. Mean error of $630,833 is awful.\n",
    "\n",
    "To-do: Add more data."
   ]
  }
 ],
 "metadata": {
  "kernelspec": {
   "display_name": ".venv",
   "language": "python",
   "name": "python3"
  },
  "language_info": {
   "codemirror_mode": {
    "name": "ipython",
    "version": 3
   },
   "file_extension": ".py",
   "mimetype": "text/x-python",
   "name": "python",
   "nbconvert_exporter": "python",
   "pygments_lexer": "ipython3",
   "version": "3.8.12"
  }
 },
 "nbformat": 4,
 "nbformat_minor": 5
}
