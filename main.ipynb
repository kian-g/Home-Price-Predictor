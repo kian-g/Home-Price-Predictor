{
 "cells": [
  {
   "cell_type": "markdown",
   "id": "649980e8",
   "metadata": {},
   "source": [
    "# Bainbridge Island Home Price Prediction\n",
    "This notebook trains a simple Decision Tree Regressor using home data from Bainbridge Island, WA to predict house prices based on features like bedrooms, bathrooms, square footage, lot size, and year built."
   ]
  },
  {
   "cell_type": "code",
   "execution_count": 20,
   "id": "5ae24b7f",
   "metadata": {},
   "outputs": [
    {
     "name": "stdout",
     "output_type": "stream",
     "text": [
      "Requirement already satisfied: pandas in /Users/kiangiuliano/Desktop/ML_Learning/.venv/lib/python3.8/site-packages (2.0.3)\n",
      "Requirement already satisfied: scikit-learn in /Users/kiangiuliano/Desktop/ML_Learning/.venv/lib/python3.8/site-packages (1.3.2)\n",
      "Requirement already satisfied: openpyxl in /Users/kiangiuliano/Desktop/ML_Learning/.venv/lib/python3.8/site-packages (3.1.5)\n",
      "Requirement already satisfied: python-dateutil>=2.8.2 in /Users/kiangiuliano/Desktop/ML_Learning/.venv/lib/python3.8/site-packages (from pandas) (2.9.0.post0)\n",
      "Requirement already satisfied: pytz>=2020.1 in /Users/kiangiuliano/Desktop/ML_Learning/.venv/lib/python3.8/site-packages (from pandas) (2025.2)\n",
      "Requirement already satisfied: tzdata>=2022.1 in /Users/kiangiuliano/Desktop/ML_Learning/.venv/lib/python3.8/site-packages (from pandas) (2025.2)\n",
      "Requirement already satisfied: numpy>=1.20.3 in /Users/kiangiuliano/Desktop/ML_Learning/.venv/lib/python3.8/site-packages (from pandas) (1.24.4)\n",
      "Requirement already satisfied: scipy>=1.5.0 in /Users/kiangiuliano/Desktop/ML_Learning/.venv/lib/python3.8/site-packages (from scikit-learn) (1.10.1)\n",
      "Requirement already satisfied: joblib>=1.1.1 in /Users/kiangiuliano/Desktop/ML_Learning/.venv/lib/python3.8/site-packages (from scikit-learn) (1.4.2)\n",
      "Requirement already satisfied: threadpoolctl>=2.0.0 in /Users/kiangiuliano/Desktop/ML_Learning/.venv/lib/python3.8/site-packages (from scikit-learn) (3.5.0)\n",
      "Requirement already satisfied: et-xmlfile in /Users/kiangiuliano/Desktop/ML_Learning/.venv/lib/python3.8/site-packages (from openpyxl) (2.0.0)\n",
      "Requirement already satisfied: six>=1.5 in /Users/kiangiuliano/Desktop/ML_Learning/.venv/lib/python3.8/site-packages (from python-dateutil>=2.8.2->pandas) (1.17.0)\n",
      "Note: you may need to restart the kernel to use updated packages.\n"
     ]
    }
   ],
   "source": [
    "%pip install pandas scikit-learn openpyxl"
   ]
  },
  {
   "cell_type": "code",
   "execution_count": 24,
   "id": "7ccc19a9",
   "metadata": {},
   "outputs": [],
   "source": [
    "# Import packages\n",
    "import pandas as pd\n",
    "from sklearn.tree import DecisionTreeRegressor\n",
    "from sklearn.metrics import mean_absolute_error\n",
    "from sklearn.model_selection import train_test_split"
   ]
  },
  {
   "cell_type": "code",
   "execution_count": 4,
   "id": "1cb552b0",
   "metadata": {},
   "outputs": [],
   "source": [
    "# Homes on Bainbridge Island, WA\n",
    "home_data = pd.read_excel(\"./BI_homes.xlsx\")"
   ]
  },
  {
   "cell_type": "code",
   "execution_count": 5,
   "id": "a2cf4b24",
   "metadata": {},
   "outputs": [
    {
     "data": {
      "text/html": [
       "<div>\n",
       "<style scoped>\n",
       "    .dataframe tbody tr th:only-of-type {\n",
       "        vertical-align: middle;\n",
       "    }\n",
       "\n",
       "    .dataframe tbody tr th {\n",
       "        vertical-align: top;\n",
       "    }\n",
       "\n",
       "    .dataframe thead th {\n",
       "        text-align: right;\n",
       "    }\n",
       "</style>\n",
       "<table border=\"1\" class=\"dataframe\">\n",
       "  <thead>\n",
       "    <tr style=\"text-align: right;\">\n",
       "      <th></th>\n",
       "      <th>bed</th>\n",
       "      <th>bath</th>\n",
       "      <th>sqft</th>\n",
       "      <th>acre_lot</th>\n",
       "      <th>year_built</th>\n",
       "      <th>price</th>\n",
       "    </tr>\n",
       "  </thead>\n",
       "  <tbody>\n",
       "    <tr>\n",
       "      <th>count</th>\n",
       "      <td>45.000000</td>\n",
       "      <td>45.000000</td>\n",
       "      <td>45.000000</td>\n",
       "      <td>45.000000</td>\n",
       "      <td>45.000000</td>\n",
       "      <td>4.500000e+01</td>\n",
       "    </tr>\n",
       "    <tr>\n",
       "      <th>mean</th>\n",
       "      <td>3.111111</td>\n",
       "      <td>2.977778</td>\n",
       "      <td>2936.755556</td>\n",
       "      <td>1.505333</td>\n",
       "      <td>1988.777778</td>\n",
       "      <td>2.051282e+06</td>\n",
       "    </tr>\n",
       "    <tr>\n",
       "      <th>std</th>\n",
       "      <td>0.982164</td>\n",
       "      <td>1.137958</td>\n",
       "      <td>1842.161788</td>\n",
       "      <td>2.995842</td>\n",
       "      <td>23.356806</td>\n",
       "      <td>1.725451e+06</td>\n",
       "    </tr>\n",
       "    <tr>\n",
       "      <th>min</th>\n",
       "      <td>1.000000</td>\n",
       "      <td>1.000000</td>\n",
       "      <td>750.000000</td>\n",
       "      <td>0.030000</td>\n",
       "      <td>1906.000000</td>\n",
       "      <td>4.980000e+05</td>\n",
       "    </tr>\n",
       "    <tr>\n",
       "      <th>25%</th>\n",
       "      <td>3.000000</td>\n",
       "      <td>2.000000</td>\n",
       "      <td>1839.000000</td>\n",
       "      <td>0.380000</td>\n",
       "      <td>1975.000000</td>\n",
       "      <td>1.050000e+06</td>\n",
       "    </tr>\n",
       "    <tr>\n",
       "      <th>50%</th>\n",
       "      <td>3.000000</td>\n",
       "      <td>3.000000</td>\n",
       "      <td>2358.000000</td>\n",
       "      <td>0.780000</td>\n",
       "      <td>1995.000000</td>\n",
       "      <td>1.498000e+06</td>\n",
       "    </tr>\n",
       "    <tr>\n",
       "      <th>75%</th>\n",
       "      <td>4.000000</td>\n",
       "      <td>3.500000</td>\n",
       "      <td>3492.000000</td>\n",
       "      <td>1.130000</td>\n",
       "      <td>2003.000000</td>\n",
       "      <td>2.275000e+06</td>\n",
       "    </tr>\n",
       "    <tr>\n",
       "      <th>max</th>\n",
       "      <td>6.000000</td>\n",
       "      <td>5.500000</td>\n",
       "      <td>9377.000000</td>\n",
       "      <td>19.320000</td>\n",
       "      <td>2024.000000</td>\n",
       "      <td>7.950000e+06</td>\n",
       "    </tr>\n",
       "  </tbody>\n",
       "</table>\n",
       "</div>"
      ],
      "text/plain": [
       "             bed       bath         sqft   acre_lot   year_built         price\n",
       "count  45.000000  45.000000    45.000000  45.000000    45.000000  4.500000e+01\n",
       "mean    3.111111   2.977778  2936.755556   1.505333  1988.777778  2.051282e+06\n",
       "std     0.982164   1.137958  1842.161788   2.995842    23.356806  1.725451e+06\n",
       "min     1.000000   1.000000   750.000000   0.030000  1906.000000  4.980000e+05\n",
       "25%     3.000000   2.000000  1839.000000   0.380000  1975.000000  1.050000e+06\n",
       "50%     3.000000   3.000000  2358.000000   0.780000  1995.000000  1.498000e+06\n",
       "75%     4.000000   3.500000  3492.000000   1.130000  2003.000000  2.275000e+06\n",
       "max     6.000000   5.500000  9377.000000  19.320000  2024.000000  7.950000e+06"
      ]
     },
     "execution_count": 5,
     "metadata": {},
     "output_type": "execute_result"
    }
   ],
   "source": [
    "home_data.describe()"
   ]
  },
  {
   "cell_type": "code",
   "execution_count": 7,
   "id": "7d2473c5",
   "metadata": {},
   "outputs": [],
   "source": [
    "y = home_data.price\n",
    "\n",
    "# Features\n",
    "X = home_data[[\"bed\", \"bath\", \"sqft\", \"acre_lot\", \"year_built\"]]"
   ]
  },
  {
   "cell_type": "code",
   "execution_count": 25,
   "id": "5999cecb",
   "metadata": {},
   "outputs": [],
   "source": [
    "# Split the data into training and validation\n",
    "train_X, val_X, train_y, val_y = train_test_split(X, y, random_state=1)"
   ]
  },
  {
   "cell_type": "code",
   "execution_count": 26,
   "id": "ed52b4b1",
   "metadata": {},
   "outputs": [
    {
     "data": {
      "text/html": [
       "<style>#sk-container-id-2 {color: black;}#sk-container-id-2 pre{padding: 0;}#sk-container-id-2 div.sk-toggleable {background-color: white;}#sk-container-id-2 label.sk-toggleable__label {cursor: pointer;display: block;width: 100%;margin-bottom: 0;padding: 0.3em;box-sizing: border-box;text-align: center;}#sk-container-id-2 label.sk-toggleable__label-arrow:before {content: \"▸\";float: left;margin-right: 0.25em;color: #696969;}#sk-container-id-2 label.sk-toggleable__label-arrow:hover:before {color: black;}#sk-container-id-2 div.sk-estimator:hover label.sk-toggleable__label-arrow:before {color: black;}#sk-container-id-2 div.sk-toggleable__content {max-height: 0;max-width: 0;overflow: hidden;text-align: left;background-color: #f0f8ff;}#sk-container-id-2 div.sk-toggleable__content pre {margin: 0.2em;color: black;border-radius: 0.25em;background-color: #f0f8ff;}#sk-container-id-2 input.sk-toggleable__control:checked~div.sk-toggleable__content {max-height: 200px;max-width: 100%;overflow: auto;}#sk-container-id-2 input.sk-toggleable__control:checked~label.sk-toggleable__label-arrow:before {content: \"▾\";}#sk-container-id-2 div.sk-estimator input.sk-toggleable__control:checked~label.sk-toggleable__label {background-color: #d4ebff;}#sk-container-id-2 div.sk-label input.sk-toggleable__control:checked~label.sk-toggleable__label {background-color: #d4ebff;}#sk-container-id-2 input.sk-hidden--visually {border: 0;clip: rect(1px 1px 1px 1px);clip: rect(1px, 1px, 1px, 1px);height: 1px;margin: -1px;overflow: hidden;padding: 0;position: absolute;width: 1px;}#sk-container-id-2 div.sk-estimator {font-family: monospace;background-color: #f0f8ff;border: 1px dotted black;border-radius: 0.25em;box-sizing: border-box;margin-bottom: 0.5em;}#sk-container-id-2 div.sk-estimator:hover {background-color: #d4ebff;}#sk-container-id-2 div.sk-parallel-item::after {content: \"\";width: 100%;border-bottom: 1px solid gray;flex-grow: 1;}#sk-container-id-2 div.sk-label:hover label.sk-toggleable__label {background-color: #d4ebff;}#sk-container-id-2 div.sk-serial::before {content: \"\";position: absolute;border-left: 1px solid gray;box-sizing: border-box;top: 0;bottom: 0;left: 50%;z-index: 0;}#sk-container-id-2 div.sk-serial {display: flex;flex-direction: column;align-items: center;background-color: white;padding-right: 0.2em;padding-left: 0.2em;position: relative;}#sk-container-id-2 div.sk-item {position: relative;z-index: 1;}#sk-container-id-2 div.sk-parallel {display: flex;align-items: stretch;justify-content: center;background-color: white;position: relative;}#sk-container-id-2 div.sk-item::before, #sk-container-id-2 div.sk-parallel-item::before {content: \"\";position: absolute;border-left: 1px solid gray;box-sizing: border-box;top: 0;bottom: 0;left: 50%;z-index: -1;}#sk-container-id-2 div.sk-parallel-item {display: flex;flex-direction: column;z-index: 1;position: relative;background-color: white;}#sk-container-id-2 div.sk-parallel-item:first-child::after {align-self: flex-end;width: 50%;}#sk-container-id-2 div.sk-parallel-item:last-child::after {align-self: flex-start;width: 50%;}#sk-container-id-2 div.sk-parallel-item:only-child::after {width: 0;}#sk-container-id-2 div.sk-dashed-wrapped {border: 1px dashed gray;margin: 0 0.4em 0.5em 0.4em;box-sizing: border-box;padding-bottom: 0.4em;background-color: white;}#sk-container-id-2 div.sk-label label {font-family: monospace;font-weight: bold;display: inline-block;line-height: 1.2em;}#sk-container-id-2 div.sk-label-container {text-align: center;}#sk-container-id-2 div.sk-container {/* jupyter's `normalize.less` sets `[hidden] { display: none; }` but bootstrap.min.css set `[hidden] { display: none !important; }` so we also need the `!important` here to be able to override the default hidden behavior on the sphinx rendered scikit-learn.org. See: https://github.com/scikit-learn/scikit-learn/issues/21755 */display: inline-block !important;position: relative;}#sk-container-id-2 div.sk-text-repr-fallback {display: none;}</style><div id=\"sk-container-id-2\" class=\"sk-top-container\"><div class=\"sk-text-repr-fallback\"><pre>DecisionTreeRegressor(random_state=1)</pre><b>In a Jupyter environment, please rerun this cell to show the HTML representation or trust the notebook. <br />On GitHub, the HTML representation is unable to render, please try loading this page with nbviewer.org.</b></div><div class=\"sk-container\" hidden><div class=\"sk-item\"><div class=\"sk-estimator sk-toggleable\"><input class=\"sk-toggleable__control sk-hidden--visually\" id=\"sk-estimator-id-2\" type=\"checkbox\" checked><label for=\"sk-estimator-id-2\" class=\"sk-toggleable__label sk-toggleable__label-arrow\">DecisionTreeRegressor</label><div class=\"sk-toggleable__content\"><pre>DecisionTreeRegressor(random_state=1)</pre></div></div></div></div></div>"
      ],
      "text/plain": [
       "DecisionTreeRegressor(random_state=1)"
      ]
     },
     "execution_count": 26,
     "metadata": {},
     "output_type": "execute_result"
    }
   ],
   "source": [
    "# Train the model on training set\n",
    "home_model = DecisionTreeRegressor(random_state=1)\n",
    "home_model.fit(train_X, train_y)"
   ]
  },
  {
   "cell_type": "code",
   "execution_count": 39,
   "id": "cd4c8f17",
   "metadata": {},
   "outputs": [
    {
     "name": "stdout",
     "output_type": "stream",
     "text": [
      "Prediction 1: $1,189,000\n",
      "Prediction 2: $1,949,000\n",
      "Prediction 3: $649,000\n",
      "Prediction 4: $7,296,000\n",
      "Prediction 5: $3,998,000\n",
      "Prediction 6: $1,875,000\n",
      "Prediction 7: $998,000\n",
      "Prediction 8: $1,998,000\n",
      "Prediction 9: $875,000\n",
      "Prediction 10: $3,380,000\n",
      "Prediction 11: $1,988,000\n",
      "Prediction 12: $1,199,000\n"
     ]
    }
   ],
   "source": [
    "# Predict on validation set\n",
    "val_predictions = home_model.predict(val_X)\n",
    "for i, prediction in enumerate(val_predictions, 1):\n",
    "    print(f\"Prediction {i}: ${prediction:,.0f}\")"
   ]
  },
  {
   "cell_type": "code",
   "execution_count": 32,
   "id": "664c7cac",
   "metadata": {},
   "outputs": [
    {
     "name": "stdout",
     "output_type": "stream",
     "text": [
      "Mean Absolute Error on Validation Set: $630,833\n"
     ]
    }
   ],
   "source": [
    "mae = mean_absolute_error(val_y, val_predictions)\n",
    "print(f\"Mean Absolute Error on Validation Set: ${mae:,.0f}\")"
   ]
  },
  {
   "cell_type": "markdown",
   "id": "53b377e4",
   "metadata": {},
   "source": [
    "The Excel file currently has only 45 rows. I need to add a lot more to get a more accurate model. Mean error of $630,833 is awful.\n",
    "\n",
    "To-do: Add more data."
   ]
  }
 ],
 "metadata": {
  "kernelspec": {
   "display_name": ".venv",
   "language": "python",
   "name": "python3"
  },
  "language_info": {
   "codemirror_mode": {
    "name": "ipython",
    "version": 3
   },
   "file_extension": ".py",
   "mimetype": "text/x-python",
   "name": "python",
   "nbconvert_exporter": "python",
   "pygments_lexer": "ipython3",
   "version": "3.8.12"
  }
 },
 "nbformat": 4,
 "nbformat_minor": 5
}
